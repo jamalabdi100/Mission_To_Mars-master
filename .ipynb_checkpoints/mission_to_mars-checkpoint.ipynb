{
 "cells": [
  {
   "cell_type": "code",
   "execution_count": 2,
   "metadata": {},
   "outputs": [],
   "source": [
    "from bs4 import BeautifulSoup\n",
    "from splinter import Browser\n",
    "from pprint import pprint\n",
    "import pymongo\n",
    "import pandas as pd\n",
    "import requests"
   ]
  },
  {
   "cell_type": "code",
   "execution_count": null,
   "metadata": {},
   "outputs": [],
   "source": [
    "executable_path = {'executable_path': '/usr/local/bin/chromedriver'}\n",
    "browser = Browser('chrome', **executable_path, headless=False)"
   ]
  },
  {
   "cell_type": "code",
   "execution_count": 3,
   "metadata": {},
   "outputs": [],
   "source": [
    "url = ('https://mars.nasa.gov/news/')\n",
    "\n",
    "response = requests.get(url)\n",
    "soup = BeautifulSoup(response.text, 'html.parser')"
   ]
  },
  {
   "cell_type": "markdown",
   "metadata": {},
   "source": [
    "# Scraping"
   ]
  },
  {
   "cell_type": "code",
   "execution_count": 4,
   "metadata": {},
   "outputs": [],
   "source": [
    "#print(soup.prettify())"
   ]
  },
  {
   "cell_type": "markdown",
   "metadata": {},
   "source": [
    "# NASA Mars News"
   ]
  },
  {
   "cell_type": "code",
   "execution_count": 5,
   "metadata": {},
   "outputs": [
    {
     "name": "stdout",
     "output_type": "stream",
     "text": [
      "[<div class=\"content_title\">\n",
      "<a href=\"/news/8348/opportunity-hunkers-down-during-dust-storm/\">\n",
      "Opportunity Hunkers Down During Dust Storm\n",
      "</a>\n",
      "</div>, <div class=\"content_title\">\n",
      "<a href=\"/news/8347/nasa-finds-ancient-organic-material-mysterious-methane-on-mars/\">\n",
      "NASA Finds Ancient Organic Material, Mysterious Methane on Mars\n",
      "</a>\n",
      "</div>, <div class=\"content_title\">\n",
      "<a href=\"/news/8326/nasa-invests-in-visionary-technology/\">\n",
      "NASA Invests in Visionary Technology \n",
      "</a>\n",
      "</div>, <div class=\"content_title\">\n",
      "<a href=\"/news/8325/nasa-is-ready-to-study-the-heart-of-mars/\">\n",
      "NASA is Ready to Study the Heart of Mars\n",
      "</a>\n",
      "</div>, <div class=\"content_title\">\n",
      "<a href=\"/news/8322/nasa-briefing-on-first-mission-to-study-mars-interior/\">\n",
      "NASA Briefing on First Mission to Study Mars Interior\n",
      "</a>\n",
      "</div>, <div class=\"content_title\">\n",
      "<a href=\"/news/8321/new-ar-mobile-app-features-3-d-nasa-spacecraft/\">\n",
      "New 'AR' Mobile App Features 3-D NASA Spacecraft\n",
      "</a>\n",
      "</div>]\n"
     ]
    }
   ],
   "source": [
    "# pull titles from website\n",
    "titles = soup.find_all('div', class_=\"content_title\")\n",
    "print(titles)"
   ]
  },
  {
   "cell_type": "code",
   "execution_count": 52,
   "metadata": {},
   "outputs": [],
   "source": [
    "# pull body from website\n",
    "body = soup.find_all('div', class_=\"rollover_description\")\n",
    "#print(body)"
   ]
  },
  {
   "cell_type": "code",
   "execution_count": 53,
   "metadata": {},
   "outputs": [
    {
     "name": "stdout",
     "output_type": "stream",
     "text": [
      "----------------\n",
      "\n",
      "Opportunity Hunkers Down During Dust Storm\n",
      "\n",
      "\n",
      "It's the beginning of the end for the planet-encircling dust storm on Mars. But it could still be weeks, or even months, before skies are clear enough for NASA's Opportunity rover to recharge its batteries and phone home. \n",
      "\n",
      "----------------\n",
      "\n",
      "NASA Finds Ancient Organic Material, Mysterious Methane on Mars\n",
      "\n",
      "\n",
      "NASA’s Curiosity rover has found evidence on Mars with implications for NASA’s search for life.\n",
      "\n",
      "----------------\n",
      "\n",
      "NASA Invests in Visionary Technology \n",
      "\n",
      "\n",
      "NASA is investing in technology concepts, including several from JPL, that may one day be used for future space exploration missions.\n",
      "\n",
      "----------------\n",
      "\n",
      "NASA is Ready to Study the Heart of Mars\n",
      "\n",
      "\n",
      "NASA is about to go on a journey to study the center of Mars.\n",
      "\n",
      "----------------\n",
      "\n",
      "NASA Briefing on First Mission to Study Mars Interior\n",
      "\n",
      "\n",
      "NASA’s next mission to Mars will be the topic of a media briefing Thursday, March 29, at JPL. The briefing will air live on NASA Television and the agency’s website.\n",
      "\n",
      "----------------\n",
      "\n",
      "New 'AR' Mobile App Features 3-D NASA Spacecraft\n",
      "\n",
      "\n",
      "NASA spacecraft travel to far-off destinations in space, but a new mobile app produced by NASA's Jet Propulsion Laboratory, Pasadena, California, brings spacecraft to users.\n",
      "\n"
     ]
    }
   ],
   "source": [
    "# pull titles and body from website\n",
    "results = soup.find_all('div', class_=\"slide\")\n",
    "for result in results:\n",
    "    titles = result.find('div', class_=\"content_title\")\n",
    "    title = titles.find('a').text\n",
    "    bodies = result.find('div', class_=\"rollover_description\")\n",
    "    body = bodies.find('div', class_=\"rollover_description_inner\").text\n",
    "    print('----------------')\n",
    "    print(title)\n",
    "    print(body)\n",
    "    "
   ]
  },
  {
   "cell_type": "markdown",
   "metadata": {},
   "source": [
    "# JPL Mars Space Images - Featured Image"
   ]
  },
  {
   "cell_type": "code",
   "execution_count": 54,
   "metadata": {},
   "outputs": [],
   "source": [
    "url = ('https://www.jpl.nasa.gov/spaceimages/?search=&category=Mars')\n",
    "\n",
    "response = requests.get(url)\n",
    "soup = BeautifulSoup(response.text, 'html.parser')"
   ]
  },
  {
   "cell_type": "code",
   "execution_count": 55,
   "metadata": {},
   "outputs": [],
   "source": [
    "#print(soup.prettify())"
   ]
  },
  {
   "cell_type": "code",
   "execution_count": 56,
   "metadata": {
    "scrolled": true
   },
   "outputs": [],
   "source": [
    "# pull images from website\n",
    "images = soup.find_all('a', class_=\"fancybox\")\n",
    "#print(images)"
   ]
  },
  {
   "cell_type": "code",
   "execution_count": 57,
   "metadata": {},
   "outputs": [
    {
     "data": {
      "text/plain": [
       "'https://www.jpl.nasa.gov/spaceimages/images/largesize/PIA22669_hires.jpg'"
      ]
     },
     "execution_count": 57,
     "metadata": {},
     "output_type": "execute_result"
    }
   ],
   "source": [
    "# pull image link\n",
    "pic_src = []\n",
    "for image in images:\n",
    "    pic = image['data-fancybox-href']\n",
    "    pic_src.append(pic)\n",
    "\n",
    "featured_image_url = 'https://www.jpl.nasa.gov' + pic\n",
    "featured_image_url\n",
    "    "
   ]
  },
  {
   "cell_type": "markdown",
   "metadata": {},
   "source": [
    "# Mars Weather"
   ]
  },
  {
   "cell_type": "code",
   "execution_count": 58,
   "metadata": {},
   "outputs": [],
   "source": [
    "url = ('https://twitter.com/marswxreport?lang=en')\n",
    "\n",
    "response = requests.get(url)\n",
    "soup = BeautifulSoup(response.text, 'html.parser')"
   ]
  },
  {
   "cell_type": "code",
   "execution_count": 59,
   "metadata": {},
   "outputs": [],
   "source": [
    "#print(soup.prettify())"
   ]
  },
  {
   "cell_type": "code",
   "execution_count": 61,
   "metadata": {},
   "outputs": [],
   "source": [
    "contents = soup.find_all(\"div\",class_=\"content\")\n",
    "#print(content)"
   ]
  },
  {
   "cell_type": "code",
   "execution_count": 62,
   "metadata": {},
   "outputs": [
    {
     "name": "stdout",
     "output_type": "stream",
     "text": [
      "\n",
      "Sol 2171 (2018-09-14), high -12C/10F, low -65C/-84F, pressure at 8.79 hPa, daylight 05:43-17:59\n",
      "\n"
     ]
    }
   ],
   "source": [
    "weather_mars = []\n",
    "for content in contents:\n",
    "    tweet = content.find(\"div\", class_=\"js-tweet-text-container\").text\n",
    "    weather_mars.append(tweet)\n",
    "#print(weather_mars)\n",
    "\n",
    "mars_weather = weather_mars[8]\n",
    "print(mars_weather)"
   ]
  },
  {
   "cell_type": "markdown",
   "metadata": {},
   "source": [
    "# Mars Facts"
   ]
  },
  {
   "cell_type": "code",
   "execution_count": 68,
   "metadata": {},
   "outputs": [
    {
     "data": {
      "text/html": [
       "<div>\n",
       "<style scoped>\n",
       "    .dataframe tbody tr th:only-of-type {\n",
       "        vertical-align: middle;\n",
       "    }\n",
       "\n",
       "    .dataframe tbody tr th {\n",
       "        vertical-align: top;\n",
       "    }\n",
       "\n",
       "    .dataframe thead th {\n",
       "        text-align: right;\n",
       "    }\n",
       "</style>\n",
       "<table border=\"1\" class=\"dataframe\">\n",
       "  <thead>\n",
       "    <tr style=\"text-align: right;\">\n",
       "      <th></th>\n",
       "      <th>0</th>\n",
       "      <th>1</th>\n",
       "    </tr>\n",
       "  </thead>\n",
       "  <tbody>\n",
       "    <tr>\n",
       "      <th>0</th>\n",
       "      <td>Equatorial Diameter:</td>\n",
       "      <td>6,792 km</td>\n",
       "    </tr>\n",
       "    <tr>\n",
       "      <th>1</th>\n",
       "      <td>Polar Diameter:</td>\n",
       "      <td>6,752 km</td>\n",
       "    </tr>\n",
       "    <tr>\n",
       "      <th>2</th>\n",
       "      <td>Mass:</td>\n",
       "      <td>6.42 x 10^23 kg (10.7% Earth)</td>\n",
       "    </tr>\n",
       "    <tr>\n",
       "      <th>3</th>\n",
       "      <td>Moons:</td>\n",
       "      <td>2 (Phobos &amp; Deimos)</td>\n",
       "    </tr>\n",
       "    <tr>\n",
       "      <th>4</th>\n",
       "      <td>Orbit Distance:</td>\n",
       "      <td>227,943,824 km (1.52 AU)</td>\n",
       "    </tr>\n",
       "    <tr>\n",
       "      <th>5</th>\n",
       "      <td>Orbit Period:</td>\n",
       "      <td>687 days (1.9 years)</td>\n",
       "    </tr>\n",
       "    <tr>\n",
       "      <th>6</th>\n",
       "      <td>Surface Temperature:</td>\n",
       "      <td>-153 to 20 °C</td>\n",
       "    </tr>\n",
       "    <tr>\n",
       "      <th>7</th>\n",
       "      <td>First Record:</td>\n",
       "      <td>2nd millennium BC</td>\n",
       "    </tr>\n",
       "    <tr>\n",
       "      <th>8</th>\n",
       "      <td>Recorded By:</td>\n",
       "      <td>Egyptian astronomers</td>\n",
       "    </tr>\n",
       "  </tbody>\n",
       "</table>\n",
       "</div>"
      ],
      "text/plain": [
       "                      0                              1\n",
       "0  Equatorial Diameter:                       6,792 km\n",
       "1       Polar Diameter:                       6,752 km\n",
       "2                 Mass:  6.42 x 10^23 kg (10.7% Earth)\n",
       "3                Moons:            2 (Phobos & Deimos)\n",
       "4       Orbit Distance:       227,943,824 km (1.52 AU)\n",
       "5         Orbit Period:           687 days (1.9 years)\n",
       "6  Surface Temperature:                  -153 to 20 °C\n",
       "7         First Record:              2nd millennium BC\n",
       "8          Recorded By:           Egyptian astronomers"
      ]
     },
     "execution_count": 68,
     "metadata": {},
     "output_type": "execute_result"
    }
   ],
   "source": [
    "mars_facts_url = \"https://space-facts.com/mars/\"\n",
    "table = pd.read_html(mars_facts_url)\n",
    "table[0]"
   ]
  },
  {
   "cell_type": "code",
   "execution_count": 69,
   "metadata": {},
   "outputs": [
    {
     "data": {
      "text/html": [
       "<div>\n",
       "<style scoped>\n",
       "    .dataframe tbody tr th:only-of-type {\n",
       "        vertical-align: middle;\n",
       "    }\n",
       "\n",
       "    .dataframe tbody tr th {\n",
       "        vertical-align: top;\n",
       "    }\n",
       "\n",
       "    .dataframe thead th {\n",
       "        text-align: right;\n",
       "    }\n",
       "</style>\n",
       "<table border=\"1\" class=\"dataframe\">\n",
       "  <thead>\n",
       "    <tr style=\"text-align: right;\">\n",
       "      <th></th>\n",
       "      <th>Facts</th>\n",
       "      <th>Value</th>\n",
       "    </tr>\n",
       "  </thead>\n",
       "  <tbody>\n",
       "    <tr>\n",
       "      <th>0</th>\n",
       "      <td>Equatorial Diameter:</td>\n",
       "      <td>6,792 km</td>\n",
       "    </tr>\n",
       "    <tr>\n",
       "      <th>1</th>\n",
       "      <td>Polar Diameter:</td>\n",
       "      <td>6,752 km</td>\n",
       "    </tr>\n",
       "    <tr>\n",
       "      <th>2</th>\n",
       "      <td>Mass:</td>\n",
       "      <td>6.42 x 10^23 kg (10.7% Earth)</td>\n",
       "    </tr>\n",
       "    <tr>\n",
       "      <th>3</th>\n",
       "      <td>Moons:</td>\n",
       "      <td>2 (Phobos &amp; Deimos)</td>\n",
       "    </tr>\n",
       "    <tr>\n",
       "      <th>4</th>\n",
       "      <td>Orbit Distance:</td>\n",
       "      <td>227,943,824 km (1.52 AU)</td>\n",
       "    </tr>\n",
       "    <tr>\n",
       "      <th>5</th>\n",
       "      <td>Orbit Period:</td>\n",
       "      <td>687 days (1.9 years)</td>\n",
       "    </tr>\n",
       "    <tr>\n",
       "      <th>6</th>\n",
       "      <td>Surface Temperature:</td>\n",
       "      <td>-153 to 20 °C</td>\n",
       "    </tr>\n",
       "    <tr>\n",
       "      <th>7</th>\n",
       "      <td>First Record:</td>\n",
       "      <td>2nd millennium BC</td>\n",
       "    </tr>\n",
       "    <tr>\n",
       "      <th>8</th>\n",
       "      <td>Recorded By:</td>\n",
       "      <td>Egyptian astronomers</td>\n",
       "    </tr>\n",
       "  </tbody>\n",
       "</table>\n",
       "</div>"
      ],
      "text/plain": [
       "                  Facts                          Value\n",
       "0  Equatorial Diameter:                       6,792 km\n",
       "1       Polar Diameter:                       6,752 km\n",
       "2                 Mass:  6.42 x 10^23 kg (10.7% Earth)\n",
       "3                Moons:            2 (Phobos & Deimos)\n",
       "4       Orbit Distance:       227,943,824 km (1.52 AU)\n",
       "5         Orbit Period:           687 days (1.9 years)\n",
       "6  Surface Temperature:                  -153 to 20 °C\n",
       "7         First Record:              2nd millennium BC\n",
       "8          Recorded By:           Egyptian astronomers"
      ]
     },
     "execution_count": 69,
     "metadata": {},
     "output_type": "execute_result"
    }
   ],
   "source": [
    "df = table[0]\n",
    "df.columns = [\"Facts\", \"Value\"]\n",
    "df.set_index([\"Facts\"])\n",
    "df"
   ]
  },
  {
   "cell_type": "code",
   "execution_count": 73,
   "metadata": {},
   "outputs": [
    {
     "data": {
      "text/plain": [
       "'<table border=\"1\" class=\"dataframe\">  <thead>    <tr style=\"text-align: right;\">      <th></th>      <th>Facts</th>      <th>Value</th>    </tr>  </thead>  <tbody>    <tr>      <th>0</th>      <td>Equatorial Diameter:</td>      <td>6,792 km</td>    </tr>    <tr>      <th>1</th>      <td>Polar Diameter:</td>      <td>6,752 km</td>    </tr>    <tr>      <th>2</th>      <td>Mass:</td>      <td>6.42 x 10^23 kg (10.7% Earth)</td>    </tr>    <tr>      <th>3</th>      <td>Moons:</td>      <td>2 (Phobos &amp; Deimos)</td>    </tr>    <tr>      <th>4</th>      <td>Orbit Distance:</td>      <td>227,943,824 km (1.52 AU)</td>    </tr>    <tr>      <th>5</th>      <td>Orbit Period:</td>      <td>687 days (1.9 years)</td>    </tr>    <tr>      <th>6</th>      <td>Surface Temperature:</td>      <td>-153 to 20 °C</td>    </tr>    <tr>      <th>7</th>      <td>First Record:</td>      <td>2nd millennium BC</td>    </tr>    <tr>      <th>8</th>      <td>Recorded By:</td>      <td>Egyptian astronomers</td>    </tr>  </tbody></table>'"
      ]
     },
     "execution_count": 73,
     "metadata": {},
     "output_type": "execute_result"
    }
   ],
   "source": [
    "facts_html = df.to_html()\n",
    "facts_html = facts_html.replace(\"\\n\",\"\")\n",
    "facts_html"
   ]
  },
  {
   "cell_type": "markdown",
   "metadata": {},
   "source": [
    "# Mars Hemispheres"
   ]
  },
  {
   "cell_type": "code",
   "execution_count": 7,
   "metadata": {},
   "outputs": [],
   "source": [
    "hemisphere_image_urls = []"
   ]
  },
  {
   "cell_type": "markdown",
   "metadata": {},
   "source": [
    "Cerberus Hemispheres"
   ]
  },
  {
   "cell_type": "code",
   "execution_count": 8,
   "metadata": {},
   "outputs": [],
   "source": [
    "url = ('https://astrogeology.usgs.gov/search/map/Mars/Viking/cerberus_enhanced')\n",
    "\n",
    "response = requests.get(url)\n",
    "soup = BeautifulSoup(response.text, 'html.parser')"
   ]
  },
  {
   "cell_type": "code",
   "execution_count": 9,
   "metadata": {},
   "outputs": [],
   "source": [
    "# print(soup.prettify())"
   ]
  },
  {
   "cell_type": "code",
   "execution_count": 10,
   "metadata": {},
   "outputs": [
    {
     "name": "stdout",
     "output_type": "stream",
     "text": [
      "[<div class=\"wide-image-wrapper \" id=\"wide-image\">\n",
      "<div class=\"downloads\">\n",
      "<img class=\"thumb\" src=\"/cache/images/dfaf3849e74bf973b59eb50dab52b583_cerberus_enhanced.tif_thumb.png\"/>\n",
      "<h3>Download</h3>\n",
      "<ul>\n",
      "<li><a href=\"http://astropedia.astrogeology.usgs.gov/download/Mars/Viking/cerberus_enhanced.tif/full.jpg\" target=\"_blank\">Sample</a> (jpg) 1024px wide</li>\n",
      "<li><a href=\"http://astropedia.astrogeology.usgs.gov/download/Mars/Viking/cerberus_enhanced.tif\" target=\"_blank\">Original</a> (tif) 21 MB</li>\n",
      "</ul>\n",
      "</div>\n",
      "<img class=\"wide-image\" src=\"/cache/images/cfa62af2557222a02478f1fcd781d445_cerberus_enhanced.tif_full.jpg\"/>\n",
      "<a class=\"open-toggle\" href=\"#open\" id=\"wide-image-toggle\">Open</a>\n",
      "</div>]\n"
     ]
    }
   ],
   "source": [
    "cerberus_img = soup.find_all('div', class_=\"wide-image-wrapper\")\n",
    "print(cerberus_img)"
   ]
  },
  {
   "cell_type": "code",
   "execution_count": 16,
   "metadata": {},
   "outputs": [
    {
     "name": "stdout",
     "output_type": "stream",
     "text": [
      "http://astropedia.astrogeology.usgs.gov/download/Mars/Viking/cerberus_enhanced.tif/full.jpg\n",
      "Cerberus Hemisphere Enhanced\n",
      "{'Title': 'Cerberus Hemisphere Enhanced', 'url': 'http://astropedia.astrogeology.usgs.gov/download/Mars/Viking/cerberus_enhanced.tif/full.jpg'}\n"
     ]
    }
   ],
   "source": [
    "for img in cerberus_img:\n",
    "    pic = img.find('li')\n",
    "    full_img = pic.find('a')['href']\n",
    "    print(full_img)\n",
    "cerberus_title = soup.find('h2', class_='title').text\n",
    "print(cerberus_title)\n",
    "cerberus_hem = {\"Title\": cerberus_title, \"url\": full_img}\n",
    "print(cerberus_hem)"
   ]
  },
  {
   "cell_type": "markdown",
   "metadata": {},
   "source": [
    "Schiaparelli Hemisphere"
   ]
  },
  {
   "cell_type": "code",
   "execution_count": 18,
   "metadata": {},
   "outputs": [],
   "source": [
    "url = ('https://astrogeology.usgs.gov/search/map/Mars/Viking/schiaparelli_enhanced')\n",
    "\n",
    "response = requests.get(url)\n",
    "soup = BeautifulSoup(response.text, 'html.parser')"
   ]
  },
  {
   "cell_type": "code",
   "execution_count": 21,
   "metadata": {},
   "outputs": [],
   "source": [
    "#print(soup.prettify())"
   ]
  },
  {
   "cell_type": "code",
   "execution_count": 25,
   "metadata": {},
   "outputs": [
    {
     "name": "stdout",
     "output_type": "stream",
     "text": [
      "[<div class=\"wide-image-wrapper \" id=\"wide-image\">\n",
      "<div class=\"downloads\">\n",
      "<img class=\"thumb\" src=\"/cache/images/7677c0a006b83871b5a2f66985ab5857_schiaparelli_enhanced.tif_thumb.png\"/>\n",
      "<h3>Download</h3>\n",
      "<ul>\n",
      "<li><a href=\"http://astropedia.astrogeology.usgs.gov/download/Mars/Viking/schiaparelli_enhanced.tif/full.jpg\" target=\"_blank\">Sample</a> (jpg) 1024px wide</li>\n",
      "<li><a href=\"http://astropedia.astrogeology.usgs.gov/download/Mars/Viking/schiaparelli_enhanced.tif\" target=\"_blank\">Original</a> (tif) 35 MB</li>\n",
      "</ul>\n",
      "</div>\n",
      "<img class=\"wide-image\" src=\"/cache/images/3cdd1cbf5e0813bba925c9030d13b62e_schiaparelli_enhanced.tif_full.jpg\"/>\n",
      "<a class=\"open-toggle\" href=\"#open\" id=\"wide-image-toggle\">Open</a>\n",
      "</div>]\n"
     ]
    }
   ],
   "source": [
    "shiaparelli_img = soup.find_all('div', class_=\"wide-image-wrapper\")\n",
    "print(shiaparelli_img)"
   ]
  },
  {
   "cell_type": "code",
   "execution_count": 27,
   "metadata": {},
   "outputs": [
    {
     "name": "stdout",
     "output_type": "stream",
     "text": [
      "http://astropedia.astrogeology.usgs.gov/download/Mars/Viking/schiaparelli_enhanced.tif/full.jpg\n",
      "Schiaparelli Hemisphere Enhanced\n",
      "{'Title': 'Schiaparelli Hemisphere Enhanced', 'url': 'http://astropedia.astrogeology.usgs.gov/download/Mars/Viking/schiaparelli_enhanced.tif/full.jpg'}\n"
     ]
    }
   ],
   "source": [
    "for img in shiaparelli_img:\n",
    "    pic = img.find('li')\n",
    "    full_img = pic.find('a')['href']\n",
    "    print(full_img)\n",
    "shiaparelli_title = soup.find('h2', class_='title').text\n",
    "print(shiaparelli_title)\n",
    "shiaparelli_hem = {\"Title\": shiaparelli_title, \"url\": full_img}\n",
    "print(shiaparelli_hem)"
   ]
  },
  {
   "cell_type": "markdown",
   "metadata": {},
   "source": [
    "Syrtis Hemisphere"
   ]
  },
  {
   "cell_type": "code",
   "execution_count": 34,
   "metadata": {},
   "outputs": [],
   "source": [
    "url = ('https://astrogeology.usgs.gov/search/map/Mars/Viking/syrtis_major_enhanced')\n",
    "\n",
    "response = requests.get(url)\n",
    "soup = BeautifulSoup(response.text, 'html.parser')"
   ]
  },
  {
   "cell_type": "code",
   "execution_count": 36,
   "metadata": {},
   "outputs": [],
   "source": [
    "#print(soup.prettify())"
   ]
  },
  {
   "cell_type": "code",
   "execution_count": 37,
   "metadata": {},
   "outputs": [
    {
     "name": "stdout",
     "output_type": "stream",
     "text": [
      "[<div class=\"wide-image-wrapper \" id=\"wide-image\">\n",
      "<div class=\"downloads\">\n",
      "<img class=\"thumb\" src=\"/cache/images/aae41197e40d6d4f3ea557f8cfe51d15_syrtis_major_enhanced.tif_thumb.png\"/>\n",
      "<h3>Download</h3>\n",
      "<ul>\n",
      "<li><a href=\"http://astropedia.astrogeology.usgs.gov/download/Mars/Viking/syrtis_major_enhanced.tif/full.jpg\" target=\"_blank\">Sample</a> (jpg) 1024px wide</li>\n",
      "<li><a href=\"http://astropedia.astrogeology.usgs.gov/download/Mars/Viking/syrtis_major_enhanced.tif\" target=\"_blank\">Original</a> (tif) 25 MB</li>\n",
      "</ul>\n",
      "</div>\n",
      "<img class=\"wide-image\" src=\"/cache/images/ae209b4e408bb6c3e67b6af38168cf28_syrtis_major_enhanced.tif_full.jpg\"/>\n",
      "<a class=\"open-toggle\" href=\"#open\" id=\"wide-image-toggle\">Open</a>\n",
      "</div>]\n"
     ]
    }
   ],
   "source": [
    "syrtris_img = soup.find_all('div', class_=\"wide-image-wrapper\")\n",
    "print(syrtris_img)"
   ]
  },
  {
   "cell_type": "code",
   "execution_count": 39,
   "metadata": {},
   "outputs": [
    {
     "name": "stdout",
     "output_type": "stream",
     "text": [
      "http://astropedia.astrogeology.usgs.gov/download/Mars/Viking/syrtis_major_enhanced.tif/full.jpg\n",
      "Syrtis Major Hemisphere Enhanced\n",
      "{'Title': 'Syrtis Major Hemisphere Enhanced', 'url': 'http://astropedia.astrogeology.usgs.gov/download/Mars/Viking/syrtis_major_enhanced.tif/full.jpg'}\n"
     ]
    }
   ],
   "source": [
    "for img in syrtris_img:\n",
    "    pic = img.find('li')\n",
    "    full_img = pic.find('a')['href']\n",
    "    print(full_img)\n",
    "syrtris_title = soup.find('h2', class_='title').text\n",
    "print(syrtris_title)\n",
    "syrtris_hem = {\"Title\": syrtris_title, \"url\": full_img}\n",
    "print(syrtris_hem)"
   ]
  },
  {
   "cell_type": "markdown",
   "metadata": {},
   "source": [
    "Valles Marineris Hemisphere"
   ]
  },
  {
   "cell_type": "code",
   "execution_count": 40,
   "metadata": {},
   "outputs": [],
   "source": [
    "url = ('https://astrogeology.usgs.gov/search/map/Mars/Viking/valles_marineris_enhanced')\n",
    "\n",
    "response = requests.get(url)\n",
    "soup = BeautifulSoup(response.text, 'html.parser')"
   ]
  },
  {
   "cell_type": "code",
   "execution_count": 41,
   "metadata": {},
   "outputs": [
    {
     "name": "stdout",
     "output_type": "stream",
     "text": [
      "[<div class=\"wide-image-wrapper \" id=\"wide-image\">\n",
      "<div class=\"downloads\">\n",
      "<img class=\"thumb\" src=\"/cache/images/04085d99ec3713883a9a57f42be9c725_valles_marineris_enhanced.tif_thumb.png\"/>\n",
      "<h3>Download</h3>\n",
      "<ul>\n",
      "<li><a href=\"http://astropedia.astrogeology.usgs.gov/download/Mars/Viking/valles_marineris_enhanced.tif/full.jpg\" target=\"_blank\">Sample</a> (jpg) 1024px wide</li>\n",
      "<li><a href=\"http://astropedia.astrogeology.usgs.gov/download/Mars/Viking/valles_marineris_enhanced.tif\" target=\"_blank\">Original</a> (tif) 27 MB</li>\n",
      "</ul>\n",
      "</div>\n",
      "<img class=\"wide-image\" src=\"/cache/images/7cf2da4bf549ed01c17f206327be4db7_valles_marineris_enhanced.tif_full.jpg\"/>\n",
      "<a class=\"open-toggle\" href=\"#open\" id=\"wide-image-toggle\">Open</a>\n",
      "</div>]\n"
     ]
    }
   ],
   "source": [
    "valles_marineris_img = soup.find_all('div', class_=\"wide-image-wrapper\")\n",
    "print(valles_marineris_img)"
   ]
  },
  {
   "cell_type": "code",
   "execution_count": 42,
   "metadata": {},
   "outputs": [
    {
     "name": "stdout",
     "output_type": "stream",
     "text": [
      "http://astropedia.astrogeology.usgs.gov/download/Mars/Viking/valles_marineris_enhanced.tif/full.jpg\n",
      "Valles Marineris Hemisphere Enhanced\n",
      "{'Title': 'Valles Marineris Hemisphere Enhanced', 'url': 'http://astropedia.astrogeology.usgs.gov/download/Mars/Viking/valles_marineris_enhanced.tif/full.jpg'}\n"
     ]
    }
   ],
   "source": [
    "for img in valles_marineris_img:\n",
    "    pic = img.find('li')\n",
    "    full_img = pic.find('a')['href']\n",
    "    print(full_img)\n",
    "valles_marineris_title = soup.find('h2', class_='title').text\n",
    "print(valles_marineris_title)\n",
    "valles_marineris_hem = {\"Title\": valles_marineris_title, \"url\": full_img}\n",
    "print(valles_marineris_hem)"
   ]
  },
  {
   "cell_type": "code",
   "execution_count": null,
   "metadata": {},
   "outputs": [],
   "source": []
  }
 ],
 "metadata": {
  "kernelspec": {
   "display_name": "Python 3",
   "language": "python",
   "name": "python3"
  },
  "language_info": {
   "codemirror_mode": {
    "name": "ipython",
    "version": 3
   },
   "file_extension": ".py",
   "mimetype": "text/x-python",
   "name": "python",
   "nbconvert_exporter": "python",
   "pygments_lexer": "ipython3",
   "version": "3.6.5"
  }
 },
 "nbformat": 4,
 "nbformat_minor": 2
}
